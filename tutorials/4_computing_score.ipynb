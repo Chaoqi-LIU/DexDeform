{
 "cells": [
  {
   "cell_type": "code",
   "execution_count": 1,
   "metadata": {},
   "outputs": [],
   "source": [
    "import os\n",
    "os.environ[\"CUDA_VISIBLE_DEVICES\"] = \"4\"\n"
   ]
  },
  {
   "cell_type": "code",
   "execution_count": 2,
   "metadata": {},
   "outputs": [],
   "source": [
    "from geomloss import SamplesLoss\n",
    "\n",
    "# p = 1 is Wasserstein-1 distance (also called EMD)\n",
    "# p = 2 is Wasserstein-2 distance \n",
    "\n",
    "\n",
    "# p = 1, and blur = 0.0001 are the hyperparameters we use in this work.\n",
    "OT_LOSS = SamplesLoss(loss=\"sinkhorn\", p=1, blur=0.0001)\n"
   ]
  },
  {
   "cell_type": "markdown",
   "metadata": {},
   "source": [
    "Here is an example of how to use geomloss package."
   ]
  },
  {
   "cell_type": "code",
   "execution_count": null,
   "metadata": {},
   "outputs": [],
   "source": [
    "\n",
    "import torch\n",
    "\n",
    "# Create some large point clouds in 3D\n",
    "x = torch.randn(100000, 3, requires_grad=True).cuda()\n",
    "y = torch.randn(200000, 3).cuda()\n",
    "\n",
    "L = OT_LOSS(x, y)  # By default, use constant weights = 1/number of samples\n",
    "g_x, = torch.autograd.grad(L, [x])  # GeomLoss fully supports autograd!"
   ]
  },
  {
   "cell_type": "markdown",
   "metadata": {},
   "source": [
    "To put this into context of this work, let's compute loss on the soft body."
   ]
  },
  {
   "cell_type": "code",
   "execution_count": 3,
   "metadata": {},
   "outputs": [
    {
     "name": "stdout",
     "output_type": "stream",
     "text": [
      "LOADING....\n",
      "Loaded with 0.00063323974609375 secs.\n",
      "Jupyter environment detected. Enabling Open3D WebVisualizer.\n",
      "[Open3D INFO] WebRTC GUI backend enabled.\n",
      "[Open3D INFO] WebRTCWindowSystem: HTTP handshake server disabled.\n"
     ]
    }
   ],
   "source": [
    "import os\n",
    "from pathlib import Path\n",
    "\n",
    "from mpm.hand import HandEnv\n",
    "from tools import CN\n",
    "from tools.config import merge_inputs\n",
    "\n",
    "def get_default_cfg(cfg_path, sim_cfg=None):\n",
    "    assert os.path.exists(cfg_path), \"config file does not exist!\"\n",
    "\n",
    "    cfg = CN(new_allowed=True)\n",
    "    cfg.env_name = Path(cfg_path).stem\n",
    "    cfg.merge_from_file(cfg_path)\n",
    "\n",
    "    if sim_cfg is not None:\n",
    "        cfg.defrost()\n",
    "        cfg.SIMULATOR = merge_inputs(cfg.SIMULATOR, **sim_cfg)\n",
    "        cfg.freeze()\n",
    "\n",
    "    return cfg\n"
   ]
  },
  {
   "cell_type": "code",
   "execution_count": 4,
   "metadata": {},
   "outputs": [
    {
     "name": "stdout",
     "output_type": "stream",
     "text": [
      "{'h': 0.01, 'r': 0.16, 'init_pos': (0.5, 0.061875, 0.6), 'n_particles': 10000}\n",
      "GPU 0/1 memory: free=39.074, total=47.536\n",
      "init renderer\n"
     ]
    }
   ],
   "source": [
    "from mpm import make\n",
    "\n",
    "env = make(env_name='folding', sim_cfg={'max_steps': 4400})\n",
    "init_state = env.init_state\n"
   ]
  },
  {
   "cell_type": "code",
   "execution_count": 6,
   "metadata": {},
   "outputs": [],
   "source": [
    "import torch\n",
    "\n",
    "current_shape_particles = env.simulator.get_x(0, device='cuda')\n",
    "target_shape_particles = torch.randn(200000, 3).cuda()\n",
    "\n",
    "L = OT_LOSS(current_shape_particles, target_shape_particles)  # By default, use constant weights = 1/number of samples"
   ]
  },
  {
   "cell_type": "code",
   "execution_count": 7,
   "metadata": {},
   "outputs": [
    {
     "data": {
      "text/plain": [
       "1.670701503753662"
      ]
     },
     "execution_count": 7,
     "metadata": {},
     "output_type": "execute_result"
    }
   ],
   "source": [
    "L.item()"
   ]
  }
 ],
 "metadata": {
  "kernelspec": {
   "display_name": "dexdeform",
   "language": "python",
   "name": "python3"
  },
  "language_info": {
   "codemirror_mode": {
    "name": "ipython",
    "version": 3
   },
   "file_extension": ".py",
   "mimetype": "text/x-python",
   "name": "python",
   "nbconvert_exporter": "python",
   "pygments_lexer": "ipython3",
   "version": "3.9.13"
  },
  "orig_nbformat": 4
 },
 "nbformat": 4,
 "nbformat_minor": 2
}
